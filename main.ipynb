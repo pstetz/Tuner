{
 "cells": [
  {
   "cell_type": "markdown",
   "metadata": {},
   "source": [
    "### Imports"
   ]
  },
  {
   "cell_type": "code",
   "execution_count": 1,
   "metadata": {
    "collapsed": true
   },
   "outputs": [],
   "source": [
    "### Main imports\n",
    "import pyaudio\n",
    "import numpy as np\n",
    "from IPython.display import clear_output\n",
    "\n",
    "### Visualizations\n",
    "import matplotlib.pyplot as plt\n",
    "import seaborn as sns\n",
    "%matplotlib inline\n",
    "sns.set()\n",
    "\n",
    "### Disable warnings\n",
    "import warnings\n",
    "warnings.filterwarnings(\"ignore\")"
   ]
  },
  {
   "cell_type": "markdown",
   "metadata": {},
   "source": [
    "### Stream functions"
   ]
  },
  {
   "cell_type": "code",
   "execution_count": 36,
   "metadata": {
    "collapsed": true
   },
   "outputs": [],
   "source": [
    "def open_stream(config):\n",
    "    \"\"\" Opens a pyaudio stream that's needed to record \"\"\"\n",
    "    p = pyaudio.PyAudio()\n",
    "    stream = p.open(\n",
    "        format = config[\"format\"],\n",
    "        channels = config[\"channels\"],\n",
    "        rate = config[\"rate\"],\n",
    "        input = True,\n",
    "        frames_per_buffer = config[\"chunk\"]\n",
    "    )\n",
    "    return p, stream\n",
    "\n",
    "def record_wav(stream, N, CHUNK):\n",
    "    \"\"\" Records N times in units of CHUNK \"\"\"\n",
    "    frames = []\n",
    "    for i in range(N):\n",
    "        data = stream.read(CHUNK)\n",
    "        frames.append(data)\n",
    "    return np.fromstring(b\"\".join(frames), 'Int16')\n",
    "\n",
    "def close_stream(p, stream):\n",
    "    \"\"\" Close the pyaudio stream \"\"\"\n",
    "    stream.stop_stream()\n",
    "    stream.close()\n",
    "    p.terminate()\n",
    "\n",
    "def sample(seconds, stream_config):\n",
    "    \"\"\"  \"\"\"\n",
    "    p, stream = open_stream(stream_config)\n",
    "    \n",
    "    ### Get sampling rate and CHUNK from the stream\n",
    "    chunk = stream_config[\"chunk\"]\n",
    "    sampling_rate = stream_config[\"rate\"]\n",
    "\n",
    "    N = int(seconds / (chunk / sampling_rate))\n",
    "    data = record_wav(stream, N, chunk)\n",
    "\n",
    "    close_stream(p, stream)\n",
    "    return data"
   ]
  },
  {
   "cell_type": "markdown",
   "metadata": {},
   "source": [
    "### Open stream"
   ]
  },
  {
   "cell_type": "code",
   "execution_count": 43,
   "metadata": {},
   "outputs": [
    {
     "data": {
      "image/png": "[encoded data removed]",
      "text/plain": [
       "<matplotlib.figure.Figure at 0x1a2832bd68>"
      ]
     },
     "metadata": {},
     "output_type": "display_data"
    }
   ],
   "source": [
    "### Configure\n",
    "stream_config = {\n",
    "    \"chunk\": 1024,\n",
    "    \"format\": pyaudio.paInt16,\n",
    "    \"channels\": 1,\n",
    "    \"rate\": 44100\n",
    "}\n",
    "config = {\n",
    "    \"noise_cutoff\": 100000,\n",
    "    \"range_min\": 12,   # c0 is 16.35 Hz\n",
    "    \"range_max\": 8000, # b8 is 7902.13 Hz\n",
    "}\n",
    "SECONDS = 1\n",
    "ITERATIONS = 20\n",
    "\n",
    "for _ in range(ITERATIONS):\n",
    "    data = sample(SECONDS, stream_config)\n",
    "    y = data\n",
    "    x = np.linspace(0, SECONDS, num=len(y))\n",
    "    plt.plot(x, y)\n",
    "    clear_output()\n",
    "    plt.show()"
   ]
  },
  {
   "cell_type": "markdown",
   "metadata": {},
   "source": [
    "### Plot Fourier\n",
    "\n",
    "Plots the fourier transform of the waveform"
   ]
  },
  {
   "cell_type": "code",
   "execution_count": 51,
   "metadata": {
    "collapsed": true
   },
   "outputs": [],
   "source": [
    "def plot_fourier(signal, config):\n",
    "    config_args = [\"noise_cutoff\", \"range_min\", \"range_max\"]\n",
    "    assert all([arg in config for arg in config_args]), \"Expected the following args as input: %s\" % \", \".join(config_args)\n",
    "    \n",
    "    ### set variables\n",
    "    range_min = config[\"range_min\"]\n",
    "    range_max = config[\"range_max\"]\n",
    "    noise_cutoff = config[\"noise_cutoff\"]\n",
    "    \n",
    "    fft_signal = np.fft.fft(signal)\n",
    "    fft_signal[:range_min] = 0\n",
    "    fft_signal[range_max:] = 0\n",
    "    fft_signal[fft_signal < noise_cutoff] = 0\n",
    "    # np.clip(fft_signal, range_min, range_max)\n",
    "    plt.plot(fft_signal)\n",
    "    plt.xlim(range_min, range_max)\n",
    "    plt.show()"
   ]
  },
  {
   "cell_type": "code",
   "execution_count": null,
   "metadata": {
    "collapsed": true
   },
   "outputs": [],
   "source": []
  }
 ],
 "metadata": {
  "kernelspec": {
   "display_name": "Python 3",
   "language": "python",
   "name": "python3"
  },
  "language_info": {
   "codemirror_mode": {
    "name": "ipython",
    "version": 3
   },
   "file_extension": ".py",
   "mimetype": "text/x-python",
   "name": "python",
   "nbconvert_exporter": "python",
   "pygments_lexer": "ipython3",
   "version": "3.6.8"
  }
 },
 "nbformat": 4,
 "nbformat_minor": 2
}
